{
 "cells": [
  {
   "cell_type": "markdown",
   "id": "ceb13608",
   "metadata": {},
   "source": [
    "# Installs"
   ]
  },
  {
   "cell_type": "code",
   "execution_count": 1,
   "id": "9208065b",
   "metadata": {},
   "outputs": [
    {
     "name": "stdout",
     "output_type": "stream",
     "text": [
      "Requirement already satisfied: pyarrow in /home/codespace/anaconda3/lib/python3.9/site-packages (16.1.0)\r\n",
      "Requirement already satisfied: numpy>=1.16.6 in /home/codespace/anaconda3/lib/python3.9/site-packages (from pyarrow) (1.21.5)\r\n"
     ]
    }
   ],
   "source": [
    "!pip install pyarrow"
   ]
  },
  {
   "cell_type": "markdown",
   "id": "c4a19253",
   "metadata": {},
   "source": [
    "# Imports"
   ]
  },
  {
   "cell_type": "code",
   "execution_count": 4,
   "id": "09fe8829",
   "metadata": {},
   "outputs": [],
   "source": [
    "import pyarrow"
   ]
  },
  {
   "cell_type": "code",
   "execution_count": 8,
   "id": "791c7049",
   "metadata": {},
   "outputs": [],
   "source": [
    "import numpy as np"
   ]
  },
  {
   "cell_type": "code",
   "execution_count": 2,
   "id": "ed031ee5",
   "metadata": {},
   "outputs": [],
   "source": [
    "import pandas as pd"
   ]
  },
  {
   "cell_type": "code",
   "execution_count": 6,
   "id": "373edf8f",
   "metadata": {},
   "outputs": [],
   "source": [
    "import sklearn"
   ]
  },
  {
   "cell_type": "code",
   "execution_count": 9,
   "id": "9b127737",
   "metadata": {},
   "outputs": [],
   "source": [
    "from sklearn.feature_extraction import DictVectorizer"
   ]
  },
  {
   "cell_type": "markdown",
   "id": "a1c25221",
   "metadata": {},
   "source": [
    "# Download Data"
   ]
  },
  {
   "cell_type": "code",
   "execution_count": 10,
   "id": "c845df31",
   "metadata": {},
   "outputs": [],
   "source": [
    "df_jan23 = pd.read_parquet(\"https://d37ci6vzurychx.cloudfront.net/trip-data/yellow_tripdata_2023-01.parquet\")"
   ]
  },
  {
   "cell_type": "code",
   "execution_count": 11,
   "id": "b768007e",
   "metadata": {},
   "outputs": [],
   "source": [
    "df_feb23 = pd.read_parquet(\"https://d37ci6vzurychx.cloudfront.net/trip-data/yellow_tripdata_2023-02.parquet\")"
   ]
  },
  {
   "cell_type": "code",
   "execution_count": 12,
   "id": "d2d1123d",
   "metadata": {},
   "outputs": [
    {
     "data": {
      "text/html": [
       "<div>\n",
       "<style scoped>\n",
       "    .dataframe tbody tr th:only-of-type {\n",
       "        vertical-align: middle;\n",
       "    }\n",
       "\n",
       "    .dataframe tbody tr th {\n",
       "        vertical-align: top;\n",
       "    }\n",
       "\n",
       "    .dataframe thead th {\n",
       "        text-align: right;\n",
       "    }\n",
       "</style>\n",
       "<table border=\"1\" class=\"dataframe\">\n",
       "  <thead>\n",
       "    <tr style=\"text-align: right;\">\n",
       "      <th></th>\n",
       "      <th>VendorID</th>\n",
       "      <th>tpep_pickup_datetime</th>\n",
       "      <th>tpep_dropoff_datetime</th>\n",
       "      <th>passenger_count</th>\n",
       "      <th>trip_distance</th>\n",
       "      <th>RatecodeID</th>\n",
       "      <th>store_and_fwd_flag</th>\n",
       "      <th>PULocationID</th>\n",
       "      <th>DOLocationID</th>\n",
       "      <th>payment_type</th>\n",
       "      <th>fare_amount</th>\n",
       "      <th>extra</th>\n",
       "      <th>mta_tax</th>\n",
       "      <th>tip_amount</th>\n",
       "      <th>tolls_amount</th>\n",
       "      <th>improvement_surcharge</th>\n",
       "      <th>total_amount</th>\n",
       "      <th>congestion_surcharge</th>\n",
       "      <th>airport_fee</th>\n",
       "    </tr>\n",
       "  </thead>\n",
       "  <tbody>\n",
       "    <tr>\n",
       "      <th>0</th>\n",
       "      <td>2</td>\n",
       "      <td>2023-01-01 00:32:10</td>\n",
       "      <td>2023-01-01 00:40:36</td>\n",
       "      <td>1.0</td>\n",
       "      <td>0.97</td>\n",
       "      <td>1.0</td>\n",
       "      <td>N</td>\n",
       "      <td>161</td>\n",
       "      <td>141</td>\n",
       "      <td>2</td>\n",
       "      <td>9.3</td>\n",
       "      <td>1.00</td>\n",
       "      <td>0.5</td>\n",
       "      <td>0.00</td>\n",
       "      <td>0.0</td>\n",
       "      <td>1.0</td>\n",
       "      <td>14.30</td>\n",
       "      <td>2.5</td>\n",
       "      <td>0.00</td>\n",
       "    </tr>\n",
       "    <tr>\n",
       "      <th>1</th>\n",
       "      <td>2</td>\n",
       "      <td>2023-01-01 00:55:08</td>\n",
       "      <td>2023-01-01 01:01:27</td>\n",
       "      <td>1.0</td>\n",
       "      <td>1.10</td>\n",
       "      <td>1.0</td>\n",
       "      <td>N</td>\n",
       "      <td>43</td>\n",
       "      <td>237</td>\n",
       "      <td>1</td>\n",
       "      <td>7.9</td>\n",
       "      <td>1.00</td>\n",
       "      <td>0.5</td>\n",
       "      <td>4.00</td>\n",
       "      <td>0.0</td>\n",
       "      <td>1.0</td>\n",
       "      <td>16.90</td>\n",
       "      <td>2.5</td>\n",
       "      <td>0.00</td>\n",
       "    </tr>\n",
       "    <tr>\n",
       "      <th>2</th>\n",
       "      <td>2</td>\n",
       "      <td>2023-01-01 00:25:04</td>\n",
       "      <td>2023-01-01 00:37:49</td>\n",
       "      <td>1.0</td>\n",
       "      <td>2.51</td>\n",
       "      <td>1.0</td>\n",
       "      <td>N</td>\n",
       "      <td>48</td>\n",
       "      <td>238</td>\n",
       "      <td>1</td>\n",
       "      <td>14.9</td>\n",
       "      <td>1.00</td>\n",
       "      <td>0.5</td>\n",
       "      <td>15.00</td>\n",
       "      <td>0.0</td>\n",
       "      <td>1.0</td>\n",
       "      <td>34.90</td>\n",
       "      <td>2.5</td>\n",
       "      <td>0.00</td>\n",
       "    </tr>\n",
       "    <tr>\n",
       "      <th>3</th>\n",
       "      <td>1</td>\n",
       "      <td>2023-01-01 00:03:48</td>\n",
       "      <td>2023-01-01 00:13:25</td>\n",
       "      <td>0.0</td>\n",
       "      <td>1.90</td>\n",
       "      <td>1.0</td>\n",
       "      <td>N</td>\n",
       "      <td>138</td>\n",
       "      <td>7</td>\n",
       "      <td>1</td>\n",
       "      <td>12.1</td>\n",
       "      <td>7.25</td>\n",
       "      <td>0.5</td>\n",
       "      <td>0.00</td>\n",
       "      <td>0.0</td>\n",
       "      <td>1.0</td>\n",
       "      <td>20.85</td>\n",
       "      <td>0.0</td>\n",
       "      <td>1.25</td>\n",
       "    </tr>\n",
       "    <tr>\n",
       "      <th>4</th>\n",
       "      <td>2</td>\n",
       "      <td>2023-01-01 00:10:29</td>\n",
       "      <td>2023-01-01 00:21:19</td>\n",
       "      <td>1.0</td>\n",
       "      <td>1.43</td>\n",
       "      <td>1.0</td>\n",
       "      <td>N</td>\n",
       "      <td>107</td>\n",
       "      <td>79</td>\n",
       "      <td>1</td>\n",
       "      <td>11.4</td>\n",
       "      <td>1.00</td>\n",
       "      <td>0.5</td>\n",
       "      <td>3.28</td>\n",
       "      <td>0.0</td>\n",
       "      <td>1.0</td>\n",
       "      <td>19.68</td>\n",
       "      <td>2.5</td>\n",
       "      <td>0.00</td>\n",
       "    </tr>\n",
       "  </tbody>\n",
       "</table>\n",
       "</div>"
      ],
      "text/plain": [
       "   VendorID tpep_pickup_datetime tpep_dropoff_datetime  passenger_count  \\\n",
       "0         2  2023-01-01 00:32:10   2023-01-01 00:40:36              1.0   \n",
       "1         2  2023-01-01 00:55:08   2023-01-01 01:01:27              1.0   \n",
       "2         2  2023-01-01 00:25:04   2023-01-01 00:37:49              1.0   \n",
       "3         1  2023-01-01 00:03:48   2023-01-01 00:13:25              0.0   \n",
       "4         2  2023-01-01 00:10:29   2023-01-01 00:21:19              1.0   \n",
       "\n",
       "   trip_distance  RatecodeID store_and_fwd_flag  PULocationID  DOLocationID  \\\n",
       "0           0.97         1.0                  N           161           141   \n",
       "1           1.10         1.0                  N            43           237   \n",
       "2           2.51         1.0                  N            48           238   \n",
       "3           1.90         1.0                  N           138             7   \n",
       "4           1.43         1.0                  N           107            79   \n",
       "\n",
       "   payment_type  fare_amount  extra  mta_tax  tip_amount  tolls_amount  \\\n",
       "0             2          9.3   1.00      0.5        0.00           0.0   \n",
       "1             1          7.9   1.00      0.5        4.00           0.0   \n",
       "2             1         14.9   1.00      0.5       15.00           0.0   \n",
       "3             1         12.1   7.25      0.5        0.00           0.0   \n",
       "4             1         11.4   1.00      0.5        3.28           0.0   \n",
       "\n",
       "   improvement_surcharge  total_amount  congestion_surcharge  airport_fee  \n",
       "0                    1.0         14.30                   2.5         0.00  \n",
       "1                    1.0         16.90                   2.5         0.00  \n",
       "2                    1.0         34.90                   2.5         0.00  \n",
       "3                    1.0         20.85                   0.0         1.25  \n",
       "4                    1.0         19.68                   2.5         0.00  "
      ]
     },
     "execution_count": 12,
     "metadata": {},
     "output_type": "execute_result"
    }
   ],
   "source": [
    "df_jan23.head()"
   ]
  },
  {
   "cell_type": "markdown",
   "id": "1e0dc37d",
   "metadata": {},
   "source": [
    "# Question 1: No. of columns in Jan23 dataset"
   ]
  },
  {
   "cell_type": "code",
   "execution_count": 13,
   "id": "4ce721b5",
   "metadata": {},
   "outputs": [
    {
     "data": {
      "text/plain": [
       "19"
      ]
     },
     "execution_count": 13,
     "metadata": {},
     "output_type": "execute_result"
    }
   ],
   "source": [
    "len(df_jan23.columns)"
   ]
  },
  {
   "cell_type": "markdown",
   "id": "648ab0ad",
   "metadata": {},
   "source": [
    "# Question 2: Calculate Duration"
   ]
  },
  {
   "cell_type": "code",
   "execution_count": 14,
   "id": "88af6f89",
   "metadata": {},
   "outputs": [],
   "source": [
    "# Convert columns to datetime\n",
    "\n",
    "df_jan23['tpep_pickup_datetime'] = pd.to_datetime(df_jan23['tpep_pickup_datetime'])\n",
    "df_jan23['tpep_dropoff_datetime'] = pd.to_datetime(df_jan23['tpep_dropoff_datetime'])"
   ]
  },
  {
   "cell_type": "code",
   "execution_count": 15,
   "id": "1bd4e33f",
   "metadata": {},
   "outputs": [],
   "source": [
    "df_feb23['tpep_pickup_datetime'] = pd.to_datetime(df_feb23['tpep_pickup_datetime'])\n",
    "df_feb23['tpep_dropoff_datetime'] = pd.to_datetime(df_feb23['tpep_dropoff_datetime'])"
   ]
  },
  {
   "cell_type": "code",
   "execution_count": 16,
   "id": "014a1314",
   "metadata": {},
   "outputs": [],
   "source": [
    "# Subtract the columns to get a trip_duration column\n",
    "\n",
    "df_jan23['trip_duration'] = df_jan23['tpep_dropoff_datetime'] - df_jan23['tpep_pickup_datetime']\n",
    "df_feb23['trip_duration'] = df_feb23['tpep_dropoff_datetime'] - df_feb23['tpep_pickup_datetime']"
   ]
  },
  {
   "cell_type": "code",
   "execution_count": 19,
   "id": "caca7af9",
   "metadata": {},
   "outputs": [],
   "source": [
    "# Convert the trip_duration column to hourly basis\n",
    "df_jan23['trip_duration_mins']  = df_jan23['trip_duration'] / pd.Timedelta(minutes=1)\n",
    "df_feb23['trip_duration_mins']  = df_feb23['trip_duration'] / pd.Timedelta(minutes=1)"
   ]
  },
  {
   "cell_type": "code",
   "execution_count": 20,
   "id": "a7f1cdfc",
   "metadata": {},
   "outputs": [],
   "source": [
    "# Calculate the standard deviation of the trip_duration column\n",
    "\n",
    "jan23_std_dev_trip_duration_mins = df_jan23['trip_duration_mins'].std()\n",
    "\n",
    "feb23_std_dev_trip_duration_mins = df_feb23['trip_duration_mins'].std()"
   ]
  },
  {
   "cell_type": "code",
   "execution_count": 21,
   "id": "7d8ac947",
   "metadata": {},
   "outputs": [
    {
     "name": "stdout",
     "output_type": "stream",
     "text": [
      "Jan 2023 42.59\n"
     ]
    }
   ],
   "source": [
    "print(\"Jan 2023\", round(jan23_std_dev_trip_duration_mins,2))"
   ]
  },
  {
   "cell_type": "code",
   "execution_count": 22,
   "id": "e5bd7eae",
   "metadata": {},
   "outputs": [
    {
     "name": "stdout",
     "output_type": "stream",
     "text": [
      "Feb 2023 42.84\n"
     ]
    }
   ],
   "source": [
    "print(\"Feb 2023\", round(feb23_std_dev_trip_duration_mins,2))"
   ]
  },
  {
   "cell_type": "markdown",
   "id": "54f4264b",
   "metadata": {},
   "source": [
    "# Question 3: Remove Outliers"
   ]
  },
  {
   "cell_type": "code",
   "execution_count": 27,
   "id": "def963c5",
   "metadata": {},
   "outputs": [
    {
     "name": "stdout",
     "output_type": "stream",
     "text": [
      "3066766\n"
     ]
    }
   ],
   "source": [
    "jan23_total_records_before = df_jan23.shape[0]\n",
    "print(jan23_total_records_before)"
   ]
  },
  {
   "cell_type": "code",
   "execution_count": 28,
   "id": "9499db0e",
   "metadata": {},
   "outputs": [
    {
     "name": "stdout",
     "output_type": "stream",
     "text": [
      "2913955\n"
     ]
    }
   ],
   "source": [
    "feb23_total_records_before = df_feb23.shape[0]\n",
    "print(feb23_total_records_before)"
   ]
  },
  {
   "cell_type": "code",
   "execution_count": 29,
   "id": "dbf10363",
   "metadata": {},
   "outputs": [],
   "source": [
    "# Filter to keep durations between 1 and 60 minutes (inclusive)\n",
    "filtered_df_jan23 = df_jan23[(df_jan23['trip_duration_mins'] >= 1) & (df_jan23['trip_duration_mins'] <= 60)].copy()"
   ]
  },
  {
   "cell_type": "code",
   "execution_count": 30,
   "id": "0b31c274",
   "metadata": {},
   "outputs": [],
   "source": [
    "# Filter to keep durations between 1 and 60 minutes (inclusive)\n",
    "filtered_df_feb23 = df_feb23[(df_feb23['trip_duration_mins'] >= 1) & (df_feb23['trip_duration_mins'] <= 60)].copy()"
   ]
  },
  {
   "cell_type": "code",
   "execution_count": 31,
   "id": "ea3bb804",
   "metadata": {},
   "outputs": [
    {
     "name": "stdout",
     "output_type": "stream",
     "text": [
      "3009173\n"
     ]
    }
   ],
   "source": [
    "jan23_total_records_after  = filtered_df_jan23.shape[0]\n",
    "print(jan23_total_records_after)"
   ]
  },
  {
   "cell_type": "code",
   "execution_count": 32,
   "id": "0555f9bd",
   "metadata": {},
   "outputs": [
    {
     "name": "stdout",
     "output_type": "stream",
     "text": [
      "2855951\n"
     ]
    }
   ],
   "source": [
    "feb23_total_records_after  = filtered_df_feb23.shape[0]\n",
    "print(feb23_total_records_after)"
   ]
  },
  {
   "cell_type": "code",
   "execution_count": 33,
   "id": "bff6307b",
   "metadata": {},
   "outputs": [],
   "source": [
    "# Calculate the fraction of records left\n",
    "jan23_fraction_remaining = jan23_total_records_after / jan23_total_records_before"
   ]
  },
  {
   "cell_type": "code",
   "execution_count": 34,
   "id": "eda43990",
   "metadata": {},
   "outputs": [],
   "source": [
    "# Calculate the fraction of records left\n",
    "feb23_fraction_remaining = feb23_total_records_after / feb23_total_records_before"
   ]
  },
  {
   "cell_type": "code",
   "execution_count": 35,
   "id": "c4e4d08c",
   "metadata": {},
   "outputs": [
    {
     "name": "stdout",
     "output_type": "stream",
     "text": [
      "98.0\n"
     ]
    }
   ],
   "source": [
    "print(round(jan23_fraction_remaining*100,0))"
   ]
  },
  {
   "cell_type": "code",
   "execution_count": 36,
   "id": "965dda84",
   "metadata": {},
   "outputs": [
    {
     "name": "stdout",
     "output_type": "stream",
     "text": [
      "98.0\n"
     ]
    }
   ],
   "source": [
    "print(round(feb23_fraction_remaining*100,0))"
   ]
  },
  {
   "cell_type": "markdown",
   "id": "49586410",
   "metadata": {},
   "source": [
    "# Question 4: One-Hot Encoding"
   ]
  },
  {
   "cell_type": "code",
   "execution_count": 37,
   "id": "6caff1ee",
   "metadata": {},
   "outputs": [],
   "source": [
    "# Convert pickup and dropoff location IDs to strings\n",
    "filtered_df_jan23['PULocationID'] = filtered_df_jan23['PULocationID'].astype(str)\n",
    "filtered_df_jan23['DOLocationID'] = filtered_df_jan23['DOLocationID'].astype(str)"
   ]
  },
  {
   "cell_type": "code",
   "execution_count": 38,
   "id": "e4224686",
   "metadata": {},
   "outputs": [],
   "source": [
    "# Convert pickup and dropoff location IDs to strings\n",
    "filtered_df_feb23['PULocationID'] = filtered_df_feb23['PULocationID'].astype(str)\n",
    "filtered_df_feb23['DOLocationID'] = filtered_df_feb23['DOLocationID'].astype(str)"
   ]
  },
  {
   "cell_type": "code",
   "execution_count": 39,
   "id": "5b81676f",
   "metadata": {},
   "outputs": [],
   "source": [
    "# Turn the DataFrame into a list of dictionaries\n",
    "jan23_data_dict = filtered_df_jan23[['PULocationID', 'DOLocationID']].to_dict(orient='records')"
   ]
  },
  {
   "cell_type": "code",
   "execution_count": 40,
   "id": "9148c4a8",
   "metadata": {},
   "outputs": [],
   "source": [
    "# Turn the DataFrame into a list of dictionaries\n",
    "feb23_data_dict = filtered_df_feb23[['PULocationID', 'DOLocationID']].to_dict(orient='records')"
   ]
  },
  {
   "cell_type": "code",
   "execution_count": 66,
   "id": "0bcdf8d3",
   "metadata": {},
   "outputs": [],
   "source": [
    "# Fit a DictVectorizer\n",
    "dv = DictVectorizer()"
   ]
  },
  {
   "cell_type": "code",
   "execution_count": 67,
   "id": "8e4b9fb3",
   "metadata": {},
   "outputs": [],
   "source": [
    "jan23_feature_matrix = dv.fit_transform(jan23_data_dict)"
   ]
  },
  {
   "cell_type": "code",
   "execution_count": 69,
   "id": "79c5f2ad",
   "metadata": {},
   "outputs": [
    {
     "name": "stdout",
     "output_type": "stream",
     "text": [
      "  (0, 43)\t1.0\n",
      "  (0, 325)\t1.0\n",
      "  (1, 148)\t1.0\n",
      "  (1, 456)\t1.0\n",
      "  (2, 149)\t1.0\n",
      "  (2, 461)\t1.0\n",
      "  (3, 227)\t1.0\n",
      "  (3, 299)\t1.0\n",
      "  (4, 237)\t1.0\n",
      "  (4, 266)\t1.0\n"
     ]
    }
   ],
   "source": [
    "print(jan23_feature_matrix[:5])"
   ]
  },
  {
   "cell_type": "code",
   "execution_count": 93,
   "id": "10b51281",
   "metadata": {},
   "outputs": [
    {
     "name": "stdout",
     "output_type": "stream",
     "text": [
      "  (0, 67)\t1.0\n",
      "  (0, 304)\t1.0\n",
      "  (1, 173)\t1.0\n",
      "  (1, 293)\t1.0\n",
      "  (2, 47)\t1.0\n",
      "  (2, 325)\t1.0\n",
      "  (3, 147)\t1.0\n",
      "  (3, 310)\t1.0\n",
      "  (4, 156)\t1.0\n",
      "  (4, 298)\t1.0\n"
     ]
    }
   ],
   "source": [
    "print(feb23_feature_matrix[:5])"
   ]
  },
  {
   "cell_type": "code",
   "execution_count": 71,
   "id": "516e6810",
   "metadata": {},
   "outputs": [
    {
     "name": "stdout",
     "output_type": "stream",
     "text": [
      "Number of rows Jan 2023: 3009173\n",
      "Number of columns Jan 2023: 515\n"
     ]
    }
   ],
   "source": [
    "# Assuming 'feature_matrix' is the matrix obtained after fitting the DictVectorizer\n",
    "num_rows_jan23, num_columns_jan23 = jan23_feature_matrix.shape\n",
    "\n",
    "print(\"Number of rows Jan 2023:\", num_rows_jan23)\n",
    "print(\"Number of columns Jan 2023:\", num_columns_jan23)\n"
   ]
  },
  {
   "cell_type": "code",
   "execution_count": 72,
   "id": "20063c98",
   "metadata": {},
   "outputs": [
    {
     "name": "stdout",
     "output_type": "stream",
     "text": [
      "Number of rows Feb 2023: 2855951\n",
      "Number of columns Feb 2023: 515\n"
     ]
    }
   ],
   "source": [
    "# Assuming 'feature_matrix' is the matrix obtained after fitting the DictVectorizer\n",
    "num_rows_feb23, num_columns_feb23 = feb23_feature_matrix.shape\n",
    "\n",
    "print(\"Number of rows Feb 2023:\", num_rows_feb23)\n",
    "print(\"Number of columns Feb 2023:\", num_columns_feb23)\n"
   ]
  },
  {
   "cell_type": "markdown",
   "id": "96292ccd",
   "metadata": {},
   "source": [
    "# Question 5: Model Training"
   ]
  },
  {
   "cell_type": "code",
   "execution_count": 73,
   "id": "b853958a",
   "metadata": {},
   "outputs": [],
   "source": [
    "from sklearn.linear_model import LinearRegression\n",
    "from sklearn.metrics import mean_squared_error"
   ]
  },
  {
   "cell_type": "code",
   "execution_count": 75,
   "id": "e8b27d76",
   "metadata": {},
   "outputs": [
    {
     "data": {
      "text/plain": [
       "LinearRegression()"
      ]
     },
     "execution_count": 75,
     "metadata": {},
     "output_type": "execute_result"
    }
   ],
   "source": [
    "# Create and fit the linear regression model\n",
    "model = LinearRegression()\n",
    "model.fit(jan23_feature_matrix, filtered_df_jan23['trip_duration_mins'])"
   ]
  },
  {
   "cell_type": "code",
   "execution_count": 77,
   "id": "559f23a7",
   "metadata": {},
   "outputs": [],
   "source": [
    "# Predict duration using the trained model\n",
    "jan23_predicted_duration = model.predict(jan23_feature_matrix)"
   ]
  },
  {
   "cell_type": "code",
   "execution_count": 79,
   "id": "f49c7e2b",
   "metadata": {},
   "outputs": [],
   "source": [
    "# Calculate the RMSE on the training data\n",
    "rmse_train_jan23 = np.sqrt(mean_squared_error(filtered_df_jan23['trip_duration_mins'], jan23_predicted_duration))"
   ]
  },
  {
   "cell_type": "code",
   "execution_count": 87,
   "id": "b6d2b9e8",
   "metadata": {},
   "outputs": [
    {
     "name": "stdout",
     "output_type": "stream",
     "text": [
      "RMSE on train: 7.649261027855596\n"
     ]
    }
   ],
   "source": [
    "print(\"RMSE on train:\", rmse_train_jan23)"
   ]
  },
  {
   "cell_type": "markdown",
   "id": "25b1fd05",
   "metadata": {},
   "source": [
    "# Quesion 6: Model Evaluation"
   ]
  },
  {
   "cell_type": "code",
   "execution_count": null,
   "id": "39fb3af9",
   "metadata": {},
   "outputs": [],
   "source": [
    "# Transform the validation dataset into the same feature representation\n",
    "feature_matrix_validation = dv.transform(feb23_data_dict)"
   ]
  },
  {
   "cell_type": "code",
   "execution_count": 84,
   "id": "f62fcb9b",
   "metadata": {},
   "outputs": [],
   "source": [
    "# Predict duration for the validation dataset\n",
    "predicted_duration_validation = model.predict(feature_matrix_validation)"
   ]
  },
  {
   "cell_type": "code",
   "execution_count": 89,
   "id": "b69f79ee",
   "metadata": {},
   "outputs": [],
   "source": [
    "# Calculate the RMSE on the validation data\n",
    "rmse_validation = np.sqrt(mean_squared_error(filtered_df_feb23['trip_duration_mins'], predicted_duration_validation))"
   ]
  },
  {
   "cell_type": "code",
   "execution_count": 92,
   "id": "24605b51",
   "metadata": {},
   "outputs": [
    {
     "name": "stdout",
     "output_type": "stream",
     "text": [
      "RMSE on validation: 7.8118325109416915\n"
     ]
    }
   ],
   "source": [
    "print(\"RMSE on validation:\", rmse_validation)"
   ]
  }
 ],
 "metadata": {
  "kernelspec": {
   "display_name": "Python 3 (ipykernel)",
   "language": "python",
   "name": "python3"
  },
  "language_info": {
   "codemirror_mode": {
    "name": "ipython",
    "version": 3
   },
   "file_extension": ".py",
   "mimetype": "text/x-python",
   "name": "python",
   "nbconvert_exporter": "python",
   "pygments_lexer": "ipython3",
   "version": "3.9.12"
  }
 },
 "nbformat": 4,
 "nbformat_minor": 5
}
